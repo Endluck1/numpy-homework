{
 "cells": [
  {
   "cell_type": "markdown",
   "id": "3fc29942",
   "metadata": {},
   "source": [
    "1. NumPy kütüphanesi np kısaltması ile import edin"
   ]
  },
  {
   "cell_type": "code",
   "execution_count": 1,
   "id": "72c61b9a",
   "metadata": {},
   "outputs": [],
   "source": [
    "import numpy as np"
   ]
  },
  {
   "cell_type": "markdown",
   "id": "9dd8ab95",
   "metadata": {},
   "source": [
    "2. 10 tane 0 değerinden oluşan bir array oluşturun"
   ]
  },
  {
   "cell_type": "code",
   "execution_count": 3,
   "id": "c8faa900",
   "metadata": {},
   "outputs": [
    {
     "data": {
      "text/plain": [
       "array([0., 0., 0., 0., 0., 0., 0., 0., 0., 0.])"
      ]
     },
     "execution_count": 3,
     "metadata": {},
     "output_type": "execute_result"
    }
   ],
   "source": [
    "np.zeros(10)"
   ]
  },
  {
   "cell_type": "markdown",
   "id": "a1088055",
   "metadata": {},
   "source": [
    "3. 10 tane 1 değerinden oluşan bir array oluşturun"
   ]
  },
  {
   "cell_type": "code",
   "execution_count": 4,
   "id": "5ae70d70",
   "metadata": {},
   "outputs": [
    {
     "data": {
      "text/plain": [
       "array([1., 1., 1., 1., 1., 1., 1., 1., 1., 1.])"
      ]
     },
     "execution_count": 4,
     "metadata": {},
     "output_type": "execute_result"
    }
   ],
   "source": [
    "np.ones(10)"
   ]
  },
  {
   "cell_type": "markdown",
   "id": "e73be728",
   "metadata": {},
   "source": [
    "4. 10 tane 5 değerinden oluşan bir array oluşturun"
   ]
  },
  {
   "cell_type": "code",
   "execution_count": 8,
   "id": "be3b6813",
   "metadata": {},
   "outputs": [
    {
     "data": {
      "text/plain": [
       "array([5., 5., 5., 5., 5., 5., 5., 5., 5., 5.])"
      ]
     },
     "execution_count": 8,
     "metadata": {},
     "output_type": "execute_result"
    }
   ],
   "source": [
    "arr = np.ones(10) * 5\n",
    "arr"
   ]
  },
  {
   "cell_type": "markdown",
   "id": "b45cb071",
   "metadata": {},
   "source": [
    "5. 10'dan 50'ye kadar(10 ve 50 dahil) ardışık tam sayılardan oluşan bir array oluşturalım"
   ]
  },
  {
   "cell_type": "code",
   "execution_count": 10,
   "id": "ffcdfb6e",
   "metadata": {},
   "outputs": [
    {
     "data": {
      "text/plain": [
       "array([10, 11, 12, 13, 14, 15, 16, 17, 18, 19, 20, 21, 22, 23, 24, 25, 26,\n",
       "       27, 28, 29, 30, 31, 32, 33, 34, 35, 36, 37, 38, 39, 40, 41, 42, 43,\n",
       "       44, 45, 46, 47, 48, 49, 50])"
      ]
     },
     "execution_count": 10,
     "metadata": {},
     "output_type": "execute_result"
    }
   ],
   "source": [
    "np.arange(10,51)"
   ]
  },
  {
   "cell_type": "markdown",
   "id": "aeb260ea",
   "metadata": {},
   "source": [
    "6. 10 ve 50 arasındaki çift tam sayılardan oluşan bir array oluşturalım. (10 ve 50 dahil)"
   ]
  },
  {
   "cell_type": "code",
   "execution_count": 12,
   "id": "78197267",
   "metadata": {},
   "outputs": [
    {
     "data": {
      "text/plain": [
       "array([10, 12, 14, 16, 18, 20, 22, 24, 26, 28, 30, 32, 34, 36, 38, 40, 42,\n",
       "       44, 46, 48])"
      ]
     },
     "execution_count": 12,
     "metadata": {},
     "output_type": "execute_result"
    }
   ],
   "source": [
    "np.arange(10,50,2)"
   ]
  },
  {
   "cell_type": "markdown",
   "id": "7150023a",
   "metadata": {},
   "source": [
    "7. 3x3 shape'inde 0'dan 8'e kadar toplam 9 tam sayıdan oluşan bir array oluşturalım"
   ]
  },
  {
   "cell_type": "code",
   "execution_count": 19,
   "id": "71f9fa5a",
   "metadata": {},
   "outputs": [
    {
     "data": {
      "text/plain": [
       "array([[0, 1, 2],\n",
       "       [3, 4, 5],\n",
       "       [6, 7, 8]])"
      ]
     },
     "execution_count": 19,
     "metadata": {},
     "output_type": "execute_result"
    }
   ],
   "source": [
    "arr = np.arange(9).reshape((3,3))\n",
    "arr\n"
   ]
  },
  {
   "cell_type": "raw",
   "id": "2a8048de",
   "metadata": {},
   "source": [
    "8. 3x3 boyutlarında birim matris oluşturun"
   ]
  },
  {
   "cell_type": "code",
   "execution_count": 20,
   "id": "1429b5af",
   "metadata": {},
   "outputs": [
    {
     "data": {
      "text/plain": [
       "array([[1., 0., 0.],\n",
       "       [0., 1., 0.],\n",
       "       [0., 0., 1.]])"
      ]
     },
     "execution_count": 20,
     "metadata": {},
     "output_type": "execute_result"
    }
   ],
   "source": [
    "np.eye(3)"
   ]
  },
  {
   "cell_type": "markdown",
   "id": "f08ff28e",
   "metadata": {},
   "source": [
    "9. NumPy kullanarak 0-1 arasından rastgele bir sayı oluşturun."
   ]
  },
  {
   "cell_type": "code",
   "execution_count": 23,
   "id": "a14ae220",
   "metadata": {},
   "outputs": [
    {
     "data": {
      "text/plain": [
       "array([0.28656109])"
      ]
     },
     "execution_count": 23,
     "metadata": {},
     "output_type": "execute_result"
    }
   ],
   "source": [
    "np.random.rand(1)"
   ]
  },
  {
   "cell_type": "markdown",
   "id": "3585548e",
   "metadata": {},
   "source": [
    "10. NumPy kullanarak standart dağılıma sahip 25 random sayıdan oluşan bir array oluşturalım."
   ]
  },
  {
   "cell_type": "code",
   "execution_count": 24,
   "id": "fb8aae51",
   "metadata": {},
   "outputs": [
    {
     "data": {
      "text/plain": [
       "array([0.41127403, 0.86862305, 0.08923348, 0.2598918 , 0.74827534,\n",
       "       0.28087431, 0.76814957, 0.89491427, 0.55416097, 0.14749017,\n",
       "       0.37605914, 0.09808871, 0.5480618 , 0.12357263, 0.46486391,\n",
       "       0.62760896, 0.43621783, 0.45895741, 0.75753166, 0.76352242,\n",
       "       0.69949821, 0.47646208, 0.31122642, 0.95947936, 0.91981769])"
      ]
     },
     "execution_count": 24,
     "metadata": {},
     "output_type": "execute_result"
    }
   ],
   "source": [
    "np.random.rand(25)"
   ]
  },
  {
   "cell_type": "markdown",
   "id": "fb92321c",
   "metadata": {},
   "source": [
    "11. Aşağıdaki çıktıdakine benzer array'i oluşturmaya çalışın"
   ]
  },
  {
   "cell_type": "code",
   "execution_count": 25,
   "id": "9c626cdb",
   "metadata": {},
   "outputs": [
    {
     "name": "stdout",
     "output_type": "stream",
     "text": [
      "[[0.01 0.02 0.03 0.04 0.05 0.06 0.07 0.08 0.09 0.1 ]\n",
      " [0.11 0.12 0.13 0.14 0.15 0.16 0.17 0.18 0.19 0.2 ]\n",
      " [0.21 0.22 0.23 0.24 0.25 0.26 0.27 0.28 0.29 0.3 ]\n",
      " [0.31 0.32 0.33 0.34 0.35 0.36 0.37 0.38 0.39 0.4 ]\n",
      " [0.41 0.42 0.43 0.44 0.45 0.46 0.47 0.48 0.49 0.5 ]\n",
      " [0.51 0.52 0.53 0.54 0.55 0.56 0.57 0.58 0.59 0.6 ]\n",
      " [0.61 0.62 0.63 0.64 0.65 0.66 0.67 0.68 0.69 0.7 ]\n",
      " [0.71 0.72 0.73 0.74 0.75 0.76 0.77 0.78 0.79 0.8 ]\n",
      " [0.81 0.82 0.83 0.84 0.85 0.86 0.87 0.88 0.89 0.9 ]\n",
      " [0.91 0.92 0.93 0.94 0.95 0.96 0.97 0.98 0.99 1.  ]]\n"
     ]
    }
   ],
   "source": [
    "arr = np.linspace(0.01, 1.0, num=100).reshape(10, 10)\n",
    "arr = np.round(arr, decimals=2)\n",
    "print(arr)"
   ]
  },
  {
   "cell_type": "markdown",
   "id": "9e648459",
   "metadata": {},
   "source": [
    "12. 0-1 arasında lineer artış gösteren ve 20 sayıdan oluşan bir array oluşturun:"
   ]
  },
  {
   "cell_type": "code",
   "execution_count": 30,
   "id": "b778018a",
   "metadata": {},
   "outputs": [
    {
     "data": {
      "text/plain": [
       "array([0.        , 0.05263158, 0.10526316, 0.15789474, 0.21052632,\n",
       "       0.26315789, 0.31578947, 0.36842105, 0.42105263, 0.47368421,\n",
       "       0.52631579, 0.57894737, 0.63157895, 0.68421053, 0.73684211,\n",
       "       0.78947368, 0.84210526, 0.89473684, 0.94736842, 1.        ])"
      ]
     },
     "execution_count": 30,
     "metadata": {},
     "output_type": "execute_result"
    }
   ],
   "source": [
    "np.linspace(0,1,20)"
   ]
  },
  {
   "cell_type": "markdown",
   "id": "97fd1404",
   "metadata": {},
   "source": [
    "# NumPy Indexing and Selection"
   ]
  },
  {
   "cell_type": "code",
   "execution_count": 31,
   "id": "43f66503",
   "metadata": {},
   "outputs": [
    {
     "data": {
      "text/plain": [
       "array([[ 1,  2,  3,  4,  5],\n",
       "       [ 6,  7,  8,  9, 10],\n",
       "       [11, 12, 13, 14, 15],\n",
       "       [16, 17, 18, 19, 20],\n",
       "       [21, 22, 23, 24, 25]])"
      ]
     },
     "execution_count": 31,
     "metadata": {},
     "output_type": "execute_result"
    }
   ],
   "source": [
    "# RUN THIS CELL - THIS IS OUR STARTING MATRIX\n",
    "mat = np.arange(1,26).reshape(5,5)\n",
    "mat"
   ]
  },
  {
   "cell_type": "markdown",
   "id": "58b3bf39",
   "metadata": {},
   "source": [
    "13. Aşağıda verilen matrisleri oluşturmaya çalışın."
   ]
  },
  {
   "cell_type": "code",
   "execution_count": 49,
   "id": "906f0b5d",
   "metadata": {},
   "outputs": [
    {
     "data": {
      "text/plain": [
       "array([[12, 13, 14, 15],\n",
       "       [17, 18, 19, 20],\n",
       "       [22, 23, 24, 25]])"
      ]
     },
     "execution_count": 49,
     "metadata": {},
     "output_type": "execute_result"
    }
   ],
   "source": [
    "arr = np.array([[12, 13, 14, 15],\n",
    "       [17, 18, 19, 20],\n",
    "       [22, 23, 24, 25]])\n",
    "arr\n"
   ]
  },
  {
   "cell_type": "markdown",
   "id": "49a58391",
   "metadata": {},
   "source": [
    "14. Write code that reproduces the output shown below."
   ]
  },
  {
   "cell_type": "code",
   "execution_count": 51,
   "id": "04d2af19",
   "metadata": {},
   "outputs": [
    {
     "data": {
      "text/plain": [
       "20"
      ]
     },
     "execution_count": 51,
     "metadata": {},
     "output_type": "execute_result"
    }
   ],
   "source": [
    "arr[1][3]"
   ]
  },
  {
   "cell_type": "markdown",
   "id": "4949d38c",
   "metadata": {},
   "source": [
    "15. mat arrayini kullanarak aşağıdaki matris çıktısını verecek kodları oluşturun"
   ]
  },
  {
   "cell_type": "code",
   "execution_count": 52,
   "id": "a3ef725d",
   "metadata": {},
   "outputs": [
    {
     "data": {
      "text/plain": [
       "array([[ 2],\n",
       "       [ 7],\n",
       "       [12]])"
      ]
     },
     "execution_count": 52,
     "metadata": {},
     "output_type": "execute_result"
    }
   ],
   "source": [
    "arr = np.array([[ 2],\n",
    "       [ 7],\n",
    "       [12]])\n",
    "arr"
   ]
  },
  {
   "cell_type": "markdown",
   "id": "8082ae49",
   "metadata": {},
   "source": [
    "16. mat arrayini kullanarak aşağıdaki matris çıktısını verecek kodları oluşturun"
   ]
  },
  {
   "cell_type": "code",
   "execution_count": 55,
   "id": "e1e1dfe4",
   "metadata": {},
   "outputs": [
    {
     "data": {
      "text/plain": [
       "array([21, 22, 23, 24, 25])"
      ]
     },
     "execution_count": 55,
     "metadata": {},
     "output_type": "execute_result"
    }
   ],
   "source": [
    "arr = np.array([21, 22, 23, 24, 25])\n",
    "arr"
   ]
  },
  {
   "cell_type": "markdown",
   "id": "2f05d103",
   "metadata": {},
   "source": [
    "17. mat arrayini kullanarak aşağıdaki matris çıktısını verecek kodları oluşturun"
   ]
  },
  {
   "cell_type": "code",
   "execution_count": 56,
   "id": "d6b5f91c",
   "metadata": {},
   "outputs": [
    {
     "data": {
      "text/plain": [
       "array([[16, 17, 18, 19, 20],\n",
       "       [21, 22, 23, 24, 25]])"
      ]
     },
     "execution_count": 56,
     "metadata": {},
     "output_type": "execute_result"
    }
   ],
   "source": [
    "arr = np.array([[16, 17, 18, 19, 20],\n",
    "       [21, 22, 23, 24, 25]])\n",
    "arr"
   ]
  },
  {
   "cell_type": "markdown",
   "id": "d8fff2c3",
   "metadata": {},
   "source": [
    "# NumPy Operations"
   ]
  },
  {
   "cell_type": "markdown",
   "id": "c1d698c3",
   "metadata": {},
   "source": [
    "18. Mat arrayindeki bütün değerlerin toplamını bulun"
   ]
  },
  {
   "cell_type": "code",
   "execution_count": 60,
   "id": "de382918",
   "metadata": {},
   "outputs": [
    {
     "data": {
      "text/plain": [
       "array([[ 1,  2,  3,  4,  5],\n",
       "       [ 6,  7,  8,  9, 10],\n",
       "       [11, 12, 13, 14, 15],\n",
       "       [16, 17, 18, 19, 20],\n",
       "       [21, 22, 23, 24, 25]])"
      ]
     },
     "execution_count": 60,
     "metadata": {},
     "output_type": "execute_result"
    }
   ],
   "source": [
    "mat = np.arange(1,26).reshape(5,5)\n",
    "mat"
   ]
  },
  {
   "cell_type": "code",
   "execution_count": 61,
   "id": "aba2ef73",
   "metadata": {},
   "outputs": [
    {
     "data": {
      "text/plain": [
       "325"
      ]
     },
     "execution_count": 61,
     "metadata": {},
     "output_type": "execute_result"
    }
   ],
   "source": [
    "mat.sum()"
   ]
  },
  {
   "cell_type": "markdown",
   "id": "7d263388",
   "metadata": {},
   "source": [
    "19. Mat arrayindeki değerlerin standart sapmasını bulun"
   ]
  },
  {
   "cell_type": "code",
   "execution_count": 62,
   "id": "58af97f5",
   "metadata": {},
   "outputs": [
    {
     "data": {
      "text/plain": [
       "7.211102550927978"
      ]
     },
     "execution_count": 62,
     "metadata": {},
     "output_type": "execute_result"
    }
   ],
   "source": [
    "mat.std()"
   ]
  },
  {
   "cell_type": "markdown",
   "id": "672d66f5",
   "metadata": {},
   "source": [
    "20. Mat arrayindeki her sütunun kendi içinde toplamlarını bularak yeni bir array oluşturun"
   ]
  },
  {
   "cell_type": "code",
   "execution_count": 63,
   "id": "f53fd4b1",
   "metadata": {},
   "outputs": [
    {
     "data": {
      "text/plain": [
       "array([55, 60, 65, 70, 75])"
      ]
     },
     "execution_count": 63,
     "metadata": {},
     "output_type": "execute_result"
    }
   ],
   "source": [
    "arr = np.sum(mat, axis=0)\n",
    "arr"
   ]
  },
  {
   "cell_type": "code",
   "execution_count": null,
   "id": "855b9106",
   "metadata": {},
   "outputs": [],
   "source": []
  }
 ],
 "metadata": {
  "kernelspec": {
   "display_name": "Python 3 (ipykernel)",
   "language": "python",
   "name": "python3"
  },
  "language_info": {
   "codemirror_mode": {
    "name": "ipython",
    "version": 3
   },
   "file_extension": ".py",
   "mimetype": "text/x-python",
   "name": "python",
   "nbconvert_exporter": "python",
   "pygments_lexer": "ipython3",
   "version": "3.9.7"
  }
 },
 "nbformat": 4,
 "nbformat_minor": 5
}
